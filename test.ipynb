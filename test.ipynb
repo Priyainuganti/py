{
 "cells": [
  {
   "cell_type": "code",
   "execution_count": 60,
   "metadata": {},
   "outputs": [],
   "source": [
    "# importing libraries\n",
    "import pandas as pd\n",
    "import seaborn as sns\n",
    "import matplotlib.pyplot as plt"
   ]
  },
  {
   "cell_type": "code",
   "execution_count": 61,
   "metadata": {
    "scrolled": false
   },
   "outputs": [],
   "source": [
    "#load data into csv\n",
    "data=pd.read_csv(\"C:/Users/user/Downloads/customersdata.csv\")\n"
   ]
  },
  {
   "cell_type": "code",
   "execution_count": 62,
   "metadata": {},
   "outputs": [
    {
     "data": {
      "text/plain": [
       "(706, 20)"
      ]
     },
     "execution_count": 62,
     "metadata": {},
     "output_type": "execute_result"
    }
   ],
   "source": [
    "data.shape"
   ]
  },
  {
   "cell_type": "code",
   "execution_count": 63,
   "metadata": {},
   "outputs": [
    {
     "name": "stdout",
     "output_type": "stream",
     "text": [
      "<class 'pandas.core.frame.DataFrame'>\n",
      "RangeIndex: 706 entries, 0 to 705\n",
      "Data columns (total 20 columns):\n",
      "fraudulent                                          168 non-null object\n",
      "customer__customerEmail                             168 non-null object\n",
      "customer__customerPhone                             168 non-null object\n",
      "customer__customerDevice                            168 non-null object\n",
      "customer__customerIPAddress                         168 non-null object\n",
      "customer__customerBillingAddress                    168 non-null object\n",
      "orders__orderId                                     478 non-null object\n",
      "orders__orderAmount                                 478 non-null float64\n",
      "orders__orderState                                  478 non-null object\n",
      "orders__orderShippingAddress                        478 non-null object\n",
      "paymentMethods__paymentMethodId                     342 non-null object\n",
      "paymentMethods__paymentMethodRegistrationFailure    342 non-null object\n",
      "paymentMethods__paymentMethodType                   342 non-null object\n",
      "paymentMethods__paymentMethodProvider               342 non-null object\n",
      "paymentMethods__paymentMethodIssuer                 342 non-null object\n",
      "transactions__transactionId                         623 non-null object\n",
      "transactions__orderId                               623 non-null object\n",
      "transactions__paymentMethodId                       623 non-null object\n",
      "transactions__transactionAmount                     623 non-null float64\n",
      "transactions__transactionFailed                     623 non-null object\n",
      "dtypes: float64(2), object(18)\n",
      "memory usage: 110.4+ KB\n"
     ]
    }
   ],
   "source": [
    "data.info()"
   ]
  },
  {
   "cell_type": "code",
   "execution_count": 64,
   "metadata": {
    "scrolled": false
   },
   "outputs": [
    {
     "data": {
      "text/html": [
       "<div>\n",
       "<style scoped>\n",
       "    .dataframe tbody tr th:only-of-type {\n",
       "        vertical-align: middle;\n",
       "    }\n",
       "\n",
       "    .dataframe tbody tr th {\n",
       "        vertical-align: top;\n",
       "    }\n",
       "\n",
       "    .dataframe thead th {\n",
       "        text-align: right;\n",
       "    }\n",
       "</style>\n",
       "<table border=\"1\" class=\"dataframe\">\n",
       "  <thead>\n",
       "    <tr style=\"text-align: right;\">\n",
       "      <th></th>\n",
       "      <th>fraudulent</th>\n",
       "      <th>customer__customerEmail</th>\n",
       "      <th>customer__customerPhone</th>\n",
       "      <th>customer__customerDevice</th>\n",
       "      <th>customer__customerIPAddress</th>\n",
       "      <th>customer__customerBillingAddress</th>\n",
       "      <th>orders__orderId</th>\n",
       "      <th>orders__orderAmount</th>\n",
       "      <th>orders__orderState</th>\n",
       "      <th>orders__orderShippingAddress</th>\n",
       "      <th>paymentMethods__paymentMethodId</th>\n",
       "      <th>paymentMethods__paymentMethodRegistrationFailure</th>\n",
       "      <th>paymentMethods__paymentMethodType</th>\n",
       "      <th>paymentMethods__paymentMethodProvider</th>\n",
       "      <th>paymentMethods__paymentMethodIssuer</th>\n",
       "      <th>transactions__transactionId</th>\n",
       "      <th>transactions__orderId</th>\n",
       "      <th>transactions__paymentMethodId</th>\n",
       "      <th>transactions__transactionAmount</th>\n",
       "      <th>transactions__transactionFailed</th>\n",
       "    </tr>\n",
       "  </thead>\n",
       "  <tbody>\n",
       "    <tr>\n",
       "      <th>0</th>\n",
       "      <td>False</td>\n",
       "      <td>josephhoward@yahoo.com</td>\n",
       "      <td>400-108-5415</td>\n",
       "      <td>yyeiaxpltf82440jnb3v</td>\n",
       "      <td>8.129.104.40</td>\n",
       "      <td>5493 Jones Islands\\nBrownside, CA 51896</td>\n",
       "      <td>vjbdvd</td>\n",
       "      <td>18.0</td>\n",
       "      <td>pending</td>\n",
       "      <td>5493 Jones Islands\\nBrownside, CA 51896</td>\n",
       "      <td>wt07xm68b</td>\n",
       "      <td>True</td>\n",
       "      <td>card</td>\n",
       "      <td>JCB 16 digit</td>\n",
       "      <td>Citizens First Banks</td>\n",
       "      <td>a9lcj51r</td>\n",
       "      <td>vjbdvd</td>\n",
       "      <td>wt07xm68b</td>\n",
       "      <td>18.0</td>\n",
       "      <td>False</td>\n",
       "    </tr>\n",
       "    <tr>\n",
       "      <th>1</th>\n",
       "      <td>False</td>\n",
       "      <td>josephhoward@yahoo.com</td>\n",
       "      <td>400-108-5415</td>\n",
       "      <td>yyeiaxpltf82440jnb3v</td>\n",
       "      <td>8.129.104.40</td>\n",
       "      <td>5493 Jones Islands\\nBrownside, CA 51896</td>\n",
       "      <td>yp6x27</td>\n",
       "      <td>26.0</td>\n",
       "      <td>fulfilled</td>\n",
       "      <td>5493 Jones Islands\\nBrownside, CA 51896</td>\n",
       "      <td>wt07xm68b</td>\n",
       "      <td>True</td>\n",
       "      <td>card</td>\n",
       "      <td>JCB 16 digit</td>\n",
       "      <td>Citizens First Banks</td>\n",
       "      <td>y4wcv03i</td>\n",
       "      <td>yp6x27</td>\n",
       "      <td>wt07xm68b</td>\n",
       "      <td>26.0</td>\n",
       "      <td>False</td>\n",
       "    </tr>\n",
       "    <tr>\n",
       "      <th>2</th>\n",
       "      <td>True</td>\n",
       "      <td>evansjeffery@yahoo.com</td>\n",
       "      <td>1-788-091-7546</td>\n",
       "      <td>r0jpm7xaeqqa3kr6mzum</td>\n",
       "      <td>219.173.211.202</td>\n",
       "      <td>356 Elizabeth Inlet Suite 120\\nPort Joshuabury...</td>\n",
       "      <td>nlghpa</td>\n",
       "      <td>45.0</td>\n",
       "      <td>fulfilled</td>\n",
       "      <td>898 Henry Ports\\nNew Keithview, CA 95893-2497</td>\n",
       "      <td>y3xp697jx</td>\n",
       "      <td>True</td>\n",
       "      <td>bitcoin</td>\n",
       "      <td>VISA 16 digit</td>\n",
       "      <td>Solace Banks</td>\n",
       "      <td>5mi94sfw</td>\n",
       "      <td>nlghpa</td>\n",
       "      <td>41ug157xz</td>\n",
       "      <td>45.0</td>\n",
       "      <td>False</td>\n",
       "    </tr>\n",
       "    <tr>\n",
       "      <th>3</th>\n",
       "      <td>True</td>\n",
       "      <td>evansjeffery@yahoo.com</td>\n",
       "      <td>1-788-091-7546</td>\n",
       "      <td>r0jpm7xaeqqa3kr6mzum</td>\n",
       "      <td>219.173.211.202</td>\n",
       "      <td>356 Elizabeth Inlet Suite 120\\nPort Joshuabury...</td>\n",
       "      <td>uw0eeb</td>\n",
       "      <td>23.0</td>\n",
       "      <td>fulfilled</td>\n",
       "      <td>356 Elizabeth Inlet Suite 120\\nPort Joshuabury...</td>\n",
       "      <td>6krszxc05</td>\n",
       "      <td>False</td>\n",
       "      <td>card</td>\n",
       "      <td>VISA 16 digit</td>\n",
       "      <td>Vertex Bancorp</td>\n",
       "      <td>br8ba1nu</td>\n",
       "      <td>uw0eeb</td>\n",
       "      <td>41ug157xz</td>\n",
       "      <td>23.0</td>\n",
       "      <td>False</td>\n",
       "    </tr>\n",
       "    <tr>\n",
       "      <th>4</th>\n",
       "      <td>True</td>\n",
       "      <td>evansjeffery@yahoo.com</td>\n",
       "      <td>1-788-091-7546</td>\n",
       "      <td>r0jpm7xaeqqa3kr6mzum</td>\n",
       "      <td>219.173.211.202</td>\n",
       "      <td>356 Elizabeth Inlet Suite 120\\nPort Joshuabury...</td>\n",
       "      <td>bn44oh</td>\n",
       "      <td>43.0</td>\n",
       "      <td>fulfilled</td>\n",
       "      <td>5093 Bryan Forks\\nJoshuaton, FM 01565-9801</td>\n",
       "      <td>5z1szj2he</td>\n",
       "      <td>False</td>\n",
       "      <td>card</td>\n",
       "      <td>Diners Club / Carte Blanche</td>\n",
       "      <td>His Majesty Bank Corp.</td>\n",
       "      <td>a33145ss</td>\n",
       "      <td>bn44oh</td>\n",
       "      <td>y3xp697jx</td>\n",
       "      <td>43.0</td>\n",
       "      <td>True</td>\n",
       "    </tr>\n",
       "  </tbody>\n",
       "</table>\n",
       "</div>"
      ],
      "text/plain": [
       "   fraudulent customer__customerEmail customer__customerPhone  \\\n",
       "0       False  josephhoward@yahoo.com            400-108-5415   \n",
       "1       False  josephhoward@yahoo.com            400-108-5415   \n",
       "2        True  evansjeffery@yahoo.com          1-788-091-7546   \n",
       "3        True  evansjeffery@yahoo.com          1-788-091-7546   \n",
       "4        True  evansjeffery@yahoo.com          1-788-091-7546   \n",
       "\n",
       "  customer__customerDevice customer__customerIPAddress  \\\n",
       "0     yyeiaxpltf82440jnb3v                8.129.104.40   \n",
       "1     yyeiaxpltf82440jnb3v                8.129.104.40   \n",
       "2     r0jpm7xaeqqa3kr6mzum             219.173.211.202   \n",
       "3     r0jpm7xaeqqa3kr6mzum             219.173.211.202   \n",
       "4     r0jpm7xaeqqa3kr6mzum             219.173.211.202   \n",
       "\n",
       "                    customer__customerBillingAddress orders__orderId  \\\n",
       "0            5493 Jones Islands\\nBrownside, CA 51896          vjbdvd   \n",
       "1            5493 Jones Islands\\nBrownside, CA 51896          yp6x27   \n",
       "2  356 Elizabeth Inlet Suite 120\\nPort Joshuabury...          nlghpa   \n",
       "3  356 Elizabeth Inlet Suite 120\\nPort Joshuabury...          uw0eeb   \n",
       "4  356 Elizabeth Inlet Suite 120\\nPort Joshuabury...          bn44oh   \n",
       "\n",
       "   orders__orderAmount orders__orderState  \\\n",
       "0                 18.0            pending   \n",
       "1                 26.0          fulfilled   \n",
       "2                 45.0          fulfilled   \n",
       "3                 23.0          fulfilled   \n",
       "4                 43.0          fulfilled   \n",
       "\n",
       "                        orders__orderShippingAddress  \\\n",
       "0            5493 Jones Islands\\nBrownside, CA 51896   \n",
       "1            5493 Jones Islands\\nBrownside, CA 51896   \n",
       "2      898 Henry Ports\\nNew Keithview, CA 95893-2497   \n",
       "3  356 Elizabeth Inlet Suite 120\\nPort Joshuabury...   \n",
       "4         5093 Bryan Forks\\nJoshuaton, FM 01565-9801   \n",
       "\n",
       "  paymentMethods__paymentMethodId  \\\n",
       "0                       wt07xm68b   \n",
       "1                       wt07xm68b   \n",
       "2                       y3xp697jx   \n",
       "3                       6krszxc05   \n",
       "4                       5z1szj2he   \n",
       "\n",
       "   paymentMethods__paymentMethodRegistrationFailure  \\\n",
       "0                                              True   \n",
       "1                                              True   \n",
       "2                                              True   \n",
       "3                                             False   \n",
       "4                                             False   \n",
       "\n",
       "  paymentMethods__paymentMethodType paymentMethods__paymentMethodProvider  \\\n",
       "0                              card                          JCB 16 digit   \n",
       "1                              card                          JCB 16 digit   \n",
       "2                           bitcoin                         VISA 16 digit   \n",
       "3                              card                         VISA 16 digit   \n",
       "4                              card           Diners Club / Carte Blanche   \n",
       "\n",
       "  paymentMethods__paymentMethodIssuer transactions__transactionId  \\\n",
       "0                Citizens First Banks                    a9lcj51r   \n",
       "1                Citizens First Banks                    y4wcv03i   \n",
       "2                        Solace Banks                    5mi94sfw   \n",
       "3                      Vertex Bancorp                    br8ba1nu   \n",
       "4              His Majesty Bank Corp.                    a33145ss   \n",
       "\n",
       "  transactions__orderId transactions__paymentMethodId  \\\n",
       "0                vjbdvd                     wt07xm68b   \n",
       "1                yp6x27                     wt07xm68b   \n",
       "2                nlghpa                     41ug157xz   \n",
       "3                uw0eeb                     41ug157xz   \n",
       "4                bn44oh                     y3xp697jx   \n",
       "\n",
       "   transactions__transactionAmount  transactions__transactionFailed  \n",
       "0                             18.0                            False  \n",
       "1                             26.0                            False  \n",
       "2                             45.0                            False  \n",
       "3                             23.0                            False  \n",
       "4                             43.0                             True  "
      ]
     },
     "execution_count": 64,
     "metadata": {},
     "output_type": "execute_result"
    }
   ],
   "source": [
    "#treating missing values\n",
    "new_data=data.fillna(method=\"ffill\",limit=14)\n",
    "new_data.head()"
   ]
  },
  {
   "cell_type": "code",
   "execution_count": 65,
   "metadata": {},
   "outputs": [
    {
     "data": {
      "text/plain": [
       "False"
      ]
     },
     "execution_count": 65,
     "metadata": {},
     "output_type": "execute_result"
    }
   ],
   "source": [
    "new_data.isnull().values.any()"
   ]
  },
  {
   "cell_type": "code",
   "execution_count": 66,
   "metadata": {},
   "outputs": [
    {
     "data": {
      "text/plain": [
       "Text(0,0.5,'Frequency')"
      ]
     },
     "execution_count": 66,
     "metadata": {},
     "output_type": "execute_result"
    },
    {
     "data": {
      "image/png": "[encoded data removed]",
      "text/plain": [
       "<Figure size 432x288 with 1 Axes>"
      ]
     },
     "metadata": {},
     "output_type": "display_data"
    }
   ],
   "source": [
    "count_classes = pd.value_counts(new_data['fraudulent'], sort = True)\n",
    "\n",
    "count_classes.plot(kind = 'bar', rot=0)\n",
    "\n",
    "plt.title(\"fradulent Class Distribution\")\n",
    "\n",
    "plt.xticks(range(2))\n",
    "\n",
    "plt.xlabel(\"fraudulent\")\n",
    "\n",
    "plt.ylabel(\"Frequency\")"
   ]
  },
  {
   "cell_type": "code",
   "execution_count": 67,
   "metadata": {
    "scrolled": false
   },
   "outputs": [
    {
     "data": {
      "text/html": [
       "<div>\n",
       "<style scoped>\n",
       "    .dataframe tbody tr th:only-of-type {\n",
       "        vertical-align: middle;\n",
       "    }\n",
       "\n",
       "    .dataframe tbody tr th {\n",
       "        vertical-align: top;\n",
       "    }\n",
       "\n",
       "    .dataframe thead th {\n",
       "        text-align: right;\n",
       "    }\n",
       "</style>\n",
       "<table border=\"1\" class=\"dataframe\">\n",
       "  <thead>\n",
       "    <tr style=\"text-align: right;\">\n",
       "      <th></th>\n",
       "      <th>orders__orderAmount</th>\n",
       "      <th>transactions__transactionAmount</th>\n",
       "    </tr>\n",
       "  </thead>\n",
       "  <tbody>\n",
       "    <tr>\n",
       "      <th>count</th>\n",
       "      <td>706.000000</td>\n",
       "      <td>706.000000</td>\n",
       "    </tr>\n",
       "    <tr>\n",
       "      <th>mean</th>\n",
       "      <td>33.967422</td>\n",
       "      <td>34.059490</td>\n",
       "    </tr>\n",
       "    <tr>\n",
       "      <th>std</th>\n",
       "      <td>19.783016</td>\n",
       "      <td>20.016217</td>\n",
       "    </tr>\n",
       "    <tr>\n",
       "      <th>min</th>\n",
       "      <td>10.000000</td>\n",
       "      <td>10.000000</td>\n",
       "    </tr>\n",
       "    <tr>\n",
       "      <th>25%</th>\n",
       "      <td>20.000000</td>\n",
       "      <td>20.000000</td>\n",
       "    </tr>\n",
       "    <tr>\n",
       "      <th>50%</th>\n",
       "      <td>33.000000</td>\n",
       "      <td>33.000000</td>\n",
       "    </tr>\n",
       "    <tr>\n",
       "      <th>75%</th>\n",
       "      <td>45.000000</td>\n",
       "      <td>45.000000</td>\n",
       "    </tr>\n",
       "    <tr>\n",
       "      <th>max</th>\n",
       "      <td>353.000000</td>\n",
       "      <td>353.000000</td>\n",
       "    </tr>\n",
       "  </tbody>\n",
       "</table>\n",
       "</div>"
      ],
      "text/plain": [
       "       orders__orderAmount  transactions__transactionAmount\n",
       "count           706.000000                       706.000000\n",
       "mean             33.967422                        34.059490\n",
       "std              19.783016                        20.016217\n",
       "min              10.000000                        10.000000\n",
       "25%              20.000000                        20.000000\n",
       "50%              33.000000                        33.000000\n",
       "75%              45.000000                        45.000000\n",
       "max             353.000000                       353.000000"
      ]
     },
     "execution_count": 67,
     "metadata": {},
     "output_type": "execute_result"
    }
   ],
   "source": [
    "new_data.describe()"
   ]
  },
  {
   "cell_type": "code",
   "execution_count": 69,
   "metadata": {},
   "outputs": [],
   "source": [
    "new_data.drop([\"customer__customerEmail\",\"customer__customerPhone\",\"customer__customerDevice\",\"customer__customerBillingAddress\",\"orders__orderId\",\"orders__orderShippingAddress\",\"paymentMethods__paymentMethodId\",\"paymentMethods__paymentMethodProvider\",\"paymentMethods__paymentMethodIssuer\",\"transactions__transactionId\",\"transactions__orderId\",\"transactions__paymentMethodId\"],axis=1,inplace=True)"
   ]
  },
  {
   "cell_type": "code",
   "execution_count": 70,
   "metadata": {},
   "outputs": [],
   "source": [
    "new_data.drop(\"customer__customerIPAddress\",axis=1,inplace=True)"
   ]
  },
  {
   "cell_type": "code",
   "execution_count": 71,
   "metadata": {},
   "outputs": [],
   "source": [
    "new_data.drop(\"orders__orderAmount\",axis=1,inplace=True)"
   ]
  },
  {
   "cell_type": "code",
   "execution_count": 72,
   "metadata": {},
   "outputs": [],
   "source": [
    "new_data.drop(\"transactions__transactionAmount\",axis=1,inplace=True)"
   ]
  },
  {
   "cell_type": "code",
   "execution_count": 73,
   "metadata": {
    "scrolled": false
   },
   "outputs": [
    {
     "data": {
      "text/html": [
       "<div>\n",
       "<style scoped>\n",
       "    .dataframe tbody tr th:only-of-type {\n",
       "        vertical-align: middle;\n",
       "    }\n",
       "\n",
       "    .dataframe tbody tr th {\n",
       "        vertical-align: top;\n",
       "    }\n",
       "\n",
       "    .dataframe thead th {\n",
       "        text-align: right;\n",
       "    }\n",
       "</style>\n",
       "<table border=\"1\" class=\"dataframe\">\n",
       "  <thead>\n",
       "    <tr style=\"text-align: right;\">\n",
       "      <th></th>\n",
       "      <th>fraudulent</th>\n",
       "      <th>orders__orderState</th>\n",
       "      <th>paymentMethods__paymentMethodRegistrationFailure</th>\n",
       "      <th>paymentMethods__paymentMethodType</th>\n",
       "      <th>transactions__transactionFailed</th>\n",
       "    </tr>\n",
       "  </thead>\n",
       "  <tbody>\n",
       "    <tr>\n",
       "      <th>0</th>\n",
       "      <td>False</td>\n",
       "      <td>pending</td>\n",
       "      <td>True</td>\n",
       "      <td>card</td>\n",
       "      <td>False</td>\n",
       "    </tr>\n",
       "    <tr>\n",
       "      <th>1</th>\n",
       "      <td>False</td>\n",
       "      <td>fulfilled</td>\n",
       "      <td>True</td>\n",
       "      <td>card</td>\n",
       "      <td>False</td>\n",
       "    </tr>\n",
       "    <tr>\n",
       "      <th>2</th>\n",
       "      <td>True</td>\n",
       "      <td>fulfilled</td>\n",
       "      <td>True</td>\n",
       "      <td>bitcoin</td>\n",
       "      <td>False</td>\n",
       "    </tr>\n",
       "    <tr>\n",
       "      <th>3</th>\n",
       "      <td>True</td>\n",
       "      <td>fulfilled</td>\n",
       "      <td>False</td>\n",
       "      <td>card</td>\n",
       "      <td>False</td>\n",
       "    </tr>\n",
       "    <tr>\n",
       "      <th>4</th>\n",
       "      <td>True</td>\n",
       "      <td>fulfilled</td>\n",
       "      <td>False</td>\n",
       "      <td>card</td>\n",
       "      <td>True</td>\n",
       "    </tr>\n",
       "  </tbody>\n",
       "</table>\n",
       "</div>"
      ],
      "text/plain": [
       "   fraudulent orders__orderState  \\\n",
       "0       False            pending   \n",
       "1       False          fulfilled   \n",
       "2        True          fulfilled   \n",
       "3        True          fulfilled   \n",
       "4        True          fulfilled   \n",
       "\n",
       "   paymentMethods__paymentMethodRegistrationFailure  \\\n",
       "0                                              True   \n",
       "1                                              True   \n",
       "2                                              True   \n",
       "3                                             False   \n",
       "4                                             False   \n",
       "\n",
       "  paymentMethods__paymentMethodType  transactions__transactionFailed  \n",
       "0                              card                            False  \n",
       "1                              card                            False  \n",
       "2                           bitcoin                            False  \n",
       "3                              card                            False  \n",
       "4                              card                             True  "
      ]
     },
     "execution_count": 73,
     "metadata": {},
     "output_type": "execute_result"
    }
   ],
   "source": [
    "new_data.head()"
   ]
  },
  {
   "cell_type": "code",
   "execution_count": 75,
   "metadata": {},
   "outputs": [],
   "source": [
    "#creating dummies\n",
    "fraud=pd.get_dummies(new_data[\"fraudulent\"],drop_first=True)\n"
   ]
  },
  {
   "cell_type": "code",
   "execution_count": 76,
   "metadata": {},
   "outputs": [],
   "source": [
    "orders__orderState=pd.get_dummies(new_data[\"orders__orderState\"],drop_first=True)\n"
   ]
  },
  {
   "cell_type": "code",
   "execution_count": 77,
   "metadata": {},
   "outputs": [],
   "source": [
    "paymentMethods__paymentMethodRegistrationFailure=pd.get_dummies(new_data[\"paymentMethods__paymentMethodRegistrationFailure\"],drop_first=True)\n"
   ]
  },
  {
   "cell_type": "code",
   "execution_count": 78,
   "metadata": {},
   "outputs": [],
   "source": [
    "paymentMethods__paymentMethodType=pd.get_dummies(new_data[\"paymentMethods__paymentMethodType\"],drop_first=True)\n"
   ]
  },
  {
   "cell_type": "code",
   "execution_count": 79,
   "metadata": {},
   "outputs": [],
   "source": [
    "transactions__transactionFailed=pd.get_dummies(new_data[\"transactions__transactionFailed\"],drop_first=True)\n"
   ]
  },
  {
   "cell_type": "code",
   "execution_count": 80,
   "metadata": {},
   "outputs": [],
   "source": [
    "new_data=pd.concat([new_data,fraud,orders__orderState,paymentMethods__paymentMethodRegistrationFailure,paymentMethods__paymentMethodType,transactions__transactionFailed],axis=1)"
   ]
  },
  {
   "cell_type": "code",
   "execution_count": 81,
   "metadata": {},
   "outputs": [
    {
     "data": {
      "text/html": [
       "<div>\n",
       "<style scoped>\n",
       "    .dataframe tbody tr th:only-of-type {\n",
       "        vertical-align: middle;\n",
       "    }\n",
       "\n",
       "    .dataframe tbody tr th {\n",
       "        vertical-align: top;\n",
       "    }\n",
       "\n",
       "    .dataframe thead th {\n",
       "        text-align: right;\n",
       "    }\n",
       "</style>\n",
       "<table border=\"1\" class=\"dataframe\">\n",
       "  <thead>\n",
       "    <tr style=\"text-align: right;\">\n",
       "      <th></th>\n",
       "      <th>fraudulent</th>\n",
       "      <th>orders__orderState</th>\n",
       "      <th>paymentMethods__paymentMethodRegistrationFailure</th>\n",
       "      <th>paymentMethods__paymentMethodType</th>\n",
       "      <th>transactions__transactionFailed</th>\n",
       "      <th>True</th>\n",
       "      <th>fulfilled</th>\n",
       "      <th>pending</th>\n",
       "      <th>True</th>\n",
       "      <th>bitcoin</th>\n",
       "      <th>card</th>\n",
       "      <th>paypal</th>\n",
       "      <th>True</th>\n",
       "    </tr>\n",
       "  </thead>\n",
       "  <tbody>\n",
       "    <tr>\n",
       "      <th>0</th>\n",
       "      <td>False</td>\n",
       "      <td>pending</td>\n",
       "      <td>True</td>\n",
       "      <td>card</td>\n",
       "      <td>False</td>\n",
       "      <td>0</td>\n",
       "      <td>0</td>\n",
       "      <td>1</td>\n",
       "      <td>1</td>\n",
       "      <td>0</td>\n",
       "      <td>1</td>\n",
       "      <td>0</td>\n",
       "      <td>0</td>\n",
       "    </tr>\n",
       "    <tr>\n",
       "      <th>1</th>\n",
       "      <td>False</td>\n",
       "      <td>fulfilled</td>\n",
       "      <td>True</td>\n",
       "      <td>card</td>\n",
       "      <td>False</td>\n",
       "      <td>0</td>\n",
       "      <td>1</td>\n",
       "      <td>0</td>\n",
       "      <td>1</td>\n",
       "      <td>0</td>\n",
       "      <td>1</td>\n",
       "      <td>0</td>\n",
       "      <td>0</td>\n",
       "    </tr>\n",
       "    <tr>\n",
       "      <th>2</th>\n",
       "      <td>True</td>\n",
       "      <td>fulfilled</td>\n",
       "      <td>True</td>\n",
       "      <td>bitcoin</td>\n",
       "      <td>False</td>\n",
       "      <td>1</td>\n",
       "      <td>1</td>\n",
       "      <td>0</td>\n",
       "      <td>1</td>\n",
       "      <td>1</td>\n",
       "      <td>0</td>\n",
       "      <td>0</td>\n",
       "      <td>0</td>\n",
       "    </tr>\n",
       "    <tr>\n",
       "      <th>3</th>\n",
       "      <td>True</td>\n",
       "      <td>fulfilled</td>\n",
       "      <td>False</td>\n",
       "      <td>card</td>\n",
       "      <td>False</td>\n",
       "      <td>1</td>\n",
       "      <td>1</td>\n",
       "      <td>0</td>\n",
       "      <td>0</td>\n",
       "      <td>0</td>\n",
       "      <td>1</td>\n",
       "      <td>0</td>\n",
       "      <td>0</td>\n",
       "    </tr>\n",
       "    <tr>\n",
       "      <th>4</th>\n",
       "      <td>True</td>\n",
       "      <td>fulfilled</td>\n",
       "      <td>False</td>\n",
       "      <td>card</td>\n",
       "      <td>True</td>\n",
       "      <td>1</td>\n",
       "      <td>1</td>\n",
       "      <td>0</td>\n",
       "      <td>0</td>\n",
       "      <td>0</td>\n",
       "      <td>1</td>\n",
       "      <td>0</td>\n",
       "      <td>1</td>\n",
       "    </tr>\n",
       "  </tbody>\n",
       "</table>\n",
       "</div>"
      ],
      "text/plain": [
       "   fraudulent orders__orderState  \\\n",
       "0       False            pending   \n",
       "1       False          fulfilled   \n",
       "2        True          fulfilled   \n",
       "3        True          fulfilled   \n",
       "4        True          fulfilled   \n",
       "\n",
       "   paymentMethods__paymentMethodRegistrationFailure  \\\n",
       "0                                              True   \n",
       "1                                              True   \n",
       "2                                              True   \n",
       "3                                             False   \n",
       "4                                             False   \n",
       "\n",
       "  paymentMethods__paymentMethodType  transactions__transactionFailed  True  \\\n",
       "0                              card                            False     0   \n",
       "1                              card                            False     0   \n",
       "2                           bitcoin                            False     1   \n",
       "3                              card                            False     1   \n",
       "4                              card                             True     1   \n",
       "\n",
       "   fulfilled  pending  True  bitcoin  card  paypal  True  \n",
       "0          0        1     1        0     1       0     0  \n",
       "1          1        0     1        0     1       0     0  \n",
       "2          1        0     1        1     0       0     0  \n",
       "3          1        0     0        0     1       0     0  \n",
       "4          1        0     0        0     1       0     1  "
      ]
     },
     "execution_count": 81,
     "metadata": {},
     "output_type": "execute_result"
    }
   ],
   "source": [
    "new_data.head()"
   ]
  },
  {
   "cell_type": "code",
   "execution_count": 82,
   "metadata": {},
   "outputs": [],
   "source": [
    "new_data.drop([\"fraudulent\",\"orders__orderState\",\"paymentMethods__paymentMethodRegistrationFailure\",\"paymentMethods__paymentMethodType\",\"transactions__transactionFailed\"],axis=1,inplace=True)"
   ]
  },
  {
   "cell_type": "code",
   "execution_count": 83,
   "metadata": {},
   "outputs": [
    {
     "data": {
      "text/html": [
       "<div>\n",
       "<style scoped>\n",
       "    .dataframe tbody tr th:only-of-type {\n",
       "        vertical-align: middle;\n",
       "    }\n",
       "\n",
       "    .dataframe tbody tr th {\n",
       "        vertical-align: top;\n",
       "    }\n",
       "\n",
       "    .dataframe thead th {\n",
       "        text-align: right;\n",
       "    }\n",
       "</style>\n",
       "<table border=\"1\" class=\"dataframe\">\n",
       "  <thead>\n",
       "    <tr style=\"text-align: right;\">\n",
       "      <th></th>\n",
       "      <th>True</th>\n",
       "      <th>fulfilled</th>\n",
       "      <th>pending</th>\n",
       "      <th>True</th>\n",
       "      <th>bitcoin</th>\n",
       "      <th>card</th>\n",
       "      <th>paypal</th>\n",
       "      <th>True</th>\n",
       "    </tr>\n",
       "  </thead>\n",
       "  <tbody>\n",
       "    <tr>\n",
       "      <th>0</th>\n",
       "      <td>0</td>\n",
       "      <td>0</td>\n",
       "      <td>1</td>\n",
       "      <td>1</td>\n",
       "      <td>0</td>\n",
       "      <td>1</td>\n",
       "      <td>0</td>\n",
       "      <td>0</td>\n",
       "    </tr>\n",
       "    <tr>\n",
       "      <th>1</th>\n",
       "      <td>0</td>\n",
       "      <td>1</td>\n",
       "      <td>0</td>\n",
       "      <td>1</td>\n",
       "      <td>0</td>\n",
       "      <td>1</td>\n",
       "      <td>0</td>\n",
       "      <td>0</td>\n",
       "    </tr>\n",
       "    <tr>\n",
       "      <th>2</th>\n",
       "      <td>1</td>\n",
       "      <td>1</td>\n",
       "      <td>0</td>\n",
       "      <td>1</td>\n",
       "      <td>1</td>\n",
       "      <td>0</td>\n",
       "      <td>0</td>\n",
       "      <td>0</td>\n",
       "    </tr>\n",
       "    <tr>\n",
       "      <th>3</th>\n",
       "      <td>1</td>\n",
       "      <td>1</td>\n",
       "      <td>0</td>\n",
       "      <td>0</td>\n",
       "      <td>0</td>\n",
       "      <td>1</td>\n",
       "      <td>0</td>\n",
       "      <td>0</td>\n",
       "    </tr>\n",
       "    <tr>\n",
       "      <th>4</th>\n",
       "      <td>1</td>\n",
       "      <td>1</td>\n",
       "      <td>0</td>\n",
       "      <td>0</td>\n",
       "      <td>0</td>\n",
       "      <td>1</td>\n",
       "      <td>0</td>\n",
       "      <td>1</td>\n",
       "    </tr>\n",
       "  </tbody>\n",
       "</table>\n",
       "</div>"
      ],
      "text/plain": [
       "   True  fulfilled  pending  True  bitcoin  card  paypal  True\n",
       "0     0          0        1     1        0     1       0     0\n",
       "1     0          1        0     1        0     1       0     0\n",
       "2     1          1        0     1        1     0       0     0\n",
       "3     1          1        0     0        0     1       0     0\n",
       "4     1          1        0     0        0     1       0     1"
      ]
     },
     "execution_count": 83,
     "metadata": {},
     "output_type": "execute_result"
    }
   ],
   "source": [
    "new_data.head()"
   ]
  },
  {
   "cell_type": "code",
   "execution_count": 84,
   "metadata": {},
   "outputs": [],
   "source": [
    "#x_matrix and y_matrix\n",
    "x=new_data.iloc[:,1:].values\n",
    "y=new_data.iloc[:,0].values"
   ]
  },
  {
   "cell_type": "code",
   "execution_count": 85,
   "metadata": {},
   "outputs": [],
   "source": [
    "# Splitting the dataset into the Training set and Test set\n",
    "from sklearn.model_selection import train_test_split\n",
    "X_train, X_test, y_train, y_test = train_test_split(x, y, test_size = 0.25, random_state =0)"
   ]
  },
  {
   "cell_type": "code",
   "execution_count": 86,
   "metadata": {
    "scrolled": true
   },
   "outputs": [
    {
     "data": {
      "text/plain": [
       "RandomForestClassifier(bootstrap=True, class_weight=None, criterion='entropy',\n",
       "            max_depth=None, max_features='auto', max_leaf_nodes=None,\n",
       "            min_impurity_decrease=0.0, min_impurity_split=None,\n",
       "            min_samples_leaf=1, min_samples_split=2,\n",
       "            min_weight_fraction_leaf=0.0, n_estimators=10, n_jobs=1,\n",
       "            oob_score=False, random_state=50, verbose=0, warm_start=False)"
      ]
     },
     "execution_count": 86,
     "metadata": {},
     "output_type": "execute_result"
    }
   ],
   "source": [
    "# Fitting Random Forest Classification to the Training set\n",
    "from sklearn.ensemble import RandomForestClassifier\n",
    "classifier = RandomForestClassifier(n_estimators = 10, criterion = 'entropy', random_state = 50)\n",
    "classifier.fit(X_train, y_train)"
   ]
  },
  {
   "cell_type": "code",
   "execution_count": 101,
   "metadata": {},
   "outputs": [],
   "source": [
    "from sklearn.model_selection import RandomizedSearchCV\n",
    "from scipy.stats import randint"
   ]
  },
  {
   "cell_type": "code",
   "execution_count": 102,
   "metadata": {},
   "outputs": [],
   "source": [
    "est = RandomForestClassifier(n_jobs=-1)\n",
    "rf_p_dist={'max_depth':[3,5,10,None],\n",
    "              'n_estimators':[10,100,200,300,400,500],\n",
    "              'max_features':randint(1,3),\n",
    "               'criterion':['gini','entropy'],\n",
    "               'bootstrap':[True,False],\n",
    "               'min_samples_leaf':randint(1,4),\n",
    "              }"
   ]
  },
  {
   "cell_type": "code",
   "execution_count": 104,
   "metadata": {},
   "outputs": [],
   "source": [
    "#hypertuning  the parameters\n",
    "def hypertuning_rscv(est, p_distr, nbr_iter,x,y):\n",
    "    rdmsearch = RandomizedSearchCV(est, param_distributions=p_distr,\n",
    "                                  n_jobs=-1, n_iter=nbr_iter, cv=9)\n",
    "    #n_jobs makes sure that all of the core of the cpu working as it takes time while computing for a large record\n",
    "    #CV = Cross-Validation ( here using Stratified KFold CV)\n",
    "    rdmsearch.fit(x,y)\n",
    "    ht_params = rdmsearch.best_params_\n",
    "    ht_score = rdmsearch.best_score_\n",
    "    return ht_params, ht_score"
   ]
  },
  {
   "cell_type": "code",
   "execution_count": 105,
   "metadata": {},
   "outputs": [],
   "source": [
    "rf_parameters,rf_ht_score  = hypertuning_rscv(est, rf_p_dist, 40, x, y)"
   ]
  },
  {
   "cell_type": "code",
   "execution_count": 106,
   "metadata": {},
   "outputs": [
    {
     "data": {
      "text/plain": [
       "{'bootstrap': False,\n",
       " 'criterion': 'gini',\n",
       " 'max_depth': 10,\n",
       " 'max_features': 2,\n",
       " 'min_samples_leaf': 1,\n",
       " 'n_estimators': 10}"
      ]
     },
     "execution_count": 106,
     "metadata": {},
     "output_type": "execute_result"
    }
   ],
   "source": [
    "rf_parameters"
   ]
  },
  {
   "cell_type": "code",
   "execution_count": 107,
   "metadata": {},
   "outputs": [
    {
     "data": {
      "text/plain": [
       "0.5368271954674221"
      ]
     },
     "execution_count": 107,
     "metadata": {},
     "output_type": "execute_result"
    }
   ],
   "source": [
    "rf_ht_score"
   ]
  },
  {
   "cell_type": "code",
   "execution_count": 108,
   "metadata": {},
   "outputs": [],
   "source": [
    "claasifier=RandomForestClassifier(n_jobs=-1, n_estimators=10,bootstrap= False,criterion='gini',max_depth=10,max_features=2,min_samples_leaf= 1)\n",
    "\n",
    "\n",
    "\n",
    "# Predicting the Test set results\n",
    "y_pred = classifier.predict(X_test)\n",
    "\n"
   ]
  },
  {
   "cell_type": "code",
   "execution_count": 111,
   "metadata": {},
   "outputs": [],
   "source": [
    "from sklearn.model_selection import cross_val_score\n",
    "\n",
    "cross_val=cross_val_score(claasifier,x,y,cv=10,scoring='accuracy').mean()"
   ]
  },
  {
   "cell_type": "code",
   "execution_count": 112,
   "metadata": {},
   "outputs": [
    {
     "data": {
      "text/plain": [
       "0.5307596302452395"
      ]
     },
     "execution_count": 112,
     "metadata": {},
     "output_type": "execute_result"
    }
   ],
   "source": [
    "cross_val"
   ]
  },
  {
   "cell_type": "code",
   "execution_count": null,
   "metadata": {},
   "outputs": [],
   "source": []
  }
 ],
 "metadata": {
  "kernelspec": {
   "display_name": "Python 3",
   "language": "python",
   "name": "python3"
  },
  "language_info": {
   "codemirror_mode": {
    "name": "ipython",
    "version": 3
   },
   "file_extension": ".py",
   "mimetype": "text/x-python",
   "name": "python",
   "nbconvert_exporter": "python",
   "pygments_lexer": "ipython3",
   "version": "3.6.5"
  }
 },
 "nbformat": 4,
 "nbformat_minor": 2
}
